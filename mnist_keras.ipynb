{
 "cells": [
  {
   "cell_type": "code",
   "execution_count": 1,
   "metadata": {},
   "outputs": [
    {
     "name": "stderr",
     "output_type": "stream",
     "text": [
      "/home/james/.local/lib/python3.5/site-packages/h5py/__init__.py:36: FutureWarning: Conversion of the second argument of issubdtype from `float` to `np.floating` is deprecated. In future, it will be treated as `np.float64 == np.dtype(float).type`.\n",
      "  from ._conv import register_converters as _register_converters\n"
     ]
    }
   ],
   "source": [
    "import tensorflow as tf\n",
    "keras = tf.keras"
   ]
  },
  {
   "cell_type": "code",
   "execution_count": 2,
   "metadata": {},
   "outputs": [
    {
     "name": "stderr",
     "output_type": "stream",
     "text": [
      "Using TensorFlow backend.\n"
     ]
    }
   ],
   "source": [
    "from keras.datasets import mnist\n",
    "from keras.models import Sequential\n",
    "from keras.layers import Dense, Conv2D, MaxPooling2D, Flatten\n",
    "from keras.optimizers import Adam"
   ]
  },
  {
   "cell_type": "code",
   "execution_count": 3,
   "metadata": {},
   "outputs": [],
   "source": [
    "# Hyperparameters\n",
    "batch_size = 128\n",
    "num_classes = 10\n",
    "epochs = 10\n",
    "\n",
    "# Load mnist Data\n",
    "(x_train, y_train), (x_test, y_test) = mnist.load_data()\n",
    "img_height, img_width = x_train.shape[1],x_train.shape[2]\n",
    "\n",
    "# reshape image to 4D Tensor\n",
    "x_train = x_train.reshape([-1,img_height,img_width,1])\n",
    "x_test = x_test.reshape([-1,img_height,img_width,1])\n",
    "\n",
    "# convert to one hot encoing \n",
    "y_train = keras.utils.to_categorical(y_train, num_classes)\n",
    "y_test = keras.utils.to_categorical(y_test, num_classes)"
   ]
  },
  {
   "cell_type": "code",
   "execution_count": 4,
   "metadata": {},
   "outputs": [],
   "source": [
    "layers = tf.keras.layers\n",
    "\n",
    "model = tf.keras.Sequential()\n",
    "model.add(layers.Conv2D(64,3, padding=\"same\", activation=\"relu\", input_shape=(img_height,img_width,1)))\n",
    "model.add(layers.Conv2D(64,3, padding=\"same\", activation=\"relu\"))\n",
    "model.add(layers.MaxPool2D(2,2))\n",
    "\n",
    "model.add(layers.Conv2D(128,3, padding=\"same\", activation=\"relu\"))\n",
    "model.add(layers.Conv2D(128,3, padding=\"same\", activation=\"relu\"))\n",
    "model.add(layers.MaxPool2D(2,2))\n",
    "\n",
    "model.add(layers.Conv2D(256,3, padding=\"same\", activation=\"relu\"))\n",
    "model.add(layers.Conv2D(256,3, padding=\"same\", activation=\"relu\"))\n",
    "model.add(layers.Conv2D(256,3, padding=\"same\", activation=\"relu\"))\n",
    "model.add(layers.MaxPool2D(2,2))\n",
    "\n",
    "model.add(layers.Conv2D(512,3, padding=\"same\", activation=\"relu\"))\n",
    "model.add(layers.Conv2D(512,3, padding=\"same\", activation=\"relu\"))\n",
    "model.add(layers.Conv2D(512,3, padding=\"same\", activation=\"relu\"))\n",
    "model.add(layers.MaxPool2D(2,2))\n",
    "\n",
    "model.add(layers.Flatten())\n",
    "model.add(layers.Dense(4096, activation=\"relu\"))\n",
    "model.add(layers.Dense(4096, activation=\"relu\"))\n",
    "model.add(layers.Dense(num_classes, activation=\"softmax\"))\n",
    "# print the model summary\n",
    "#model.summary()"
   ]
  },
  {
   "cell_type": "code",
   "execution_count": 5,
   "metadata": {},
   "outputs": [],
   "source": [
    "# determine Loss function and Optimizer\n",
    "optimizer = tf.train.AdamOptimizer()\n",
    "\n",
    "model.compile(loss='categorical_crossentropy',\n",
    "              optimizer=optimizer,\n",
    "              metrics=['accuracy'])"
   ]
  },
  {
   "cell_type": "code",
   "execution_count": 6,
   "metadata": {},
   "outputs": [
    {
     "name": "stdout",
     "output_type": "stream",
     "text": [
      "Epoch 1/10\n",
      "60000/60000 [==============================] - 19s 316us/step - loss: 0.5109 - acc: 0.8327\n",
      "Epoch 2/10\n",
      "60000/60000 [==============================] - 15s 244us/step - loss: 0.0746 - acc: 0.9807\n",
      "Epoch 3/10\n",
      "60000/60000 [==============================] - 15s 244us/step - loss: 0.0620 - acc: 0.9846\n",
      "Epoch 4/10\n",
      "60000/60000 [==============================] - 15s 245us/step - loss: 0.0471 - acc: 0.9884\n",
      "Epoch 5/10\n",
      "60000/60000 [==============================] - 15s 248us/step - loss: 0.0519 - acc: 0.9877\n",
      "Epoch 6/10\n",
      "60000/60000 [==============================] - 15s 250us/step - loss: 0.0534 - acc: 0.9878\n",
      "Epoch 7/10\n",
      "60000/60000 [==============================] - 15s 250us/step - loss: 0.0424 - acc: 0.9897\n",
      "Epoch 8/10\n",
      "60000/60000 [==============================] - 15s 256us/step - loss: 0.0377 - acc: 0.9913\n",
      "Epoch 9/10\n",
      "60000/60000 [==============================] - 15s 258us/step - loss: 0.0492 - acc: 0.9892\n",
      "Epoch 10/10\n",
      "60000/60000 [==============================] - 15s 253us/step - loss: 0.0349 - acc: 0.9925\n",
      "Total time to train :  155.21690154075623\n"
     ]
    }
   ],
   "source": [
    "from time import time\n",
    "before = time()\n",
    "model.fit(x_train, y_train,\n",
    "                    batch_size=batch_size,\n",
    "                    epochs=epochs,\n",
    "                    verbose=1)\n",
    "after = time()\n",
    "\n",
    "print(\"Total time to train : \", after-before)"
   ]
  },
  {
   "cell_type": "code",
   "execution_count": 7,
   "metadata": {},
   "outputs": [],
   "source": [
    "#155.21690154075623"
   ]
  }
 ],
 "metadata": {
  "kernelspec": {
   "display_name": "Python 3",
   "language": "python",
   "name": "python3"
  },
  "language_info": {
   "codemirror_mode": {
    "name": "ipython",
    "version": 3
   },
   "file_extension": ".py",
   "mimetype": "text/x-python",
   "name": "python",
   "nbconvert_exporter": "python",
   "pygments_lexer": "ipython3",
   "version": "3.5.2"
  }
 },
 "nbformat": 4,
 "nbformat_minor": 2
}
