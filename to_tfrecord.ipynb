{
 "cells": [
  {
   "cell_type": "code",
   "execution_count": 1,
   "metadata": {},
   "outputs": [
    {
     "name": "stderr",
     "output_type": "stream",
     "text": [
      "/home/james/.local/lib/python3.5/site-packages/h5py/__init__.py:36: FutureWarning: Conversion of the second argument of issubdtype from `float` to `np.floating` is deprecated. In future, it will be treated as `np.float64 == np.dtype(float).type`.\n",
      "  from ._conv import register_converters as _register_converters\n"
     ]
    }
   ],
   "source": [
    "import tensorflow as tf\n",
    "config = tf.ConfigProto()\n",
    "config.gpu_options.allow_growth = True\n",
    "tf.enable_eager_execution(config=config)\n",
    "\n",
    "import os\n",
    "from multiprocessing import Process, Manager\n",
    "from random import shuffle\n",
    "import itertools\n",
    "from time import time"
   ]
  },
  {
   "cell_type": "code",
   "execution_count": 10,
   "metadata": {},
   "outputs": [
    {
     "name": "stdout",
     "output_type": "stream",
     "text": [
      "loaded all path of data, # of data : 4726 ,time take: 17.08025050163269\n"
     ]
    }
   ],
   "source": [
    "train_dir = \"train/\"\n",
    "classes = os.listdir(train_dir)\n",
    "classes = sorted(classes)\n",
    "num_classes = len(classes)\n",
    "\n",
    "def list_all(class_num, class_name, shared, *args):\n",
    "    class_dir = train_dir + class_name+ \"/\"\n",
    "    file_list = os.listdir(class_dir)\n",
    "        \n",
    "    class_list = manager.list(shared[class_num])\n",
    "\n",
    "    for file in file_list:\n",
    "        file_dir = class_dir + file\n",
    "\n",
    "        image = tf.read_file(file_dir)\n",
    "        image = tf.image.decode_image(image)\n",
    "        if image.shape[2] == 3:\n",
    "            class_list.append([file_dir, class_num])\n",
    "            \n",
    "    shared[class_num] = class_list\n",
    "\n",
    "            \n",
    "manager = Manager()\n",
    "shared = manager.list([[]]*num_classes)\n",
    "p = []\n",
    "first = time()\n",
    "for class_num, class_name in enumerate(classes):\n",
    "    p.append(Process(target=list_all, args=(class_num, class_name, shared)))\n",
    "    p[class_num].start()\n",
    "\n",
    "for i in range(class_num):\n",
    "    p[i].join()\n",
    "    \n",
    "all_list = list(itertools.chain.from_iterable(shared))\n",
    "print(\"loaded all path of data, # of data :\", len(all_list), \",time take:\",  time()-first)\n",
    "\n",
    "shuffle(all_list)\n",
    "shuffle(all_list)\n",
    "\n",
    "x, y = zip(*all_list)"
   ]
  },
  {
   "cell_type": "code",
   "execution_count": 3,
   "metadata": {},
   "outputs": [],
   "source": [
    "train_x = x[:int(0.8*len(x))]\n",
    "train_y = y[:int(0.8*len(y))]\n",
    "\n",
    "test_x = x[int(0.8*len(x)):]\n",
    "test_y = y[int(0.8*len(y)):]"
   ]
  },
  {
   "cell_type": "code",
   "execution_count": 6,
   "metadata": {},
   "outputs": [
    {
     "name": "stdout",
     "output_type": "stream",
     "text": [
      "Time to write train record(s) :  0.3445112705230713\n"
     ]
    }
   ],
   "source": [
    "def _int64_feature(value):\n",
    "    return tf.train.Feature(int64_list=tf.train.Int64List(value=[value]))\n",
    "\n",
    "def _bytes_feature(value):\n",
    "    return tf.train.Feature(bytes_list=tf.train.BytesList(value=[value]))\n",
    "\n",
    "def write_tfrecord(name, x, y):\n",
    "    \n",
    "    tfrecord_path = name + \".tfrecords\"\n",
    "    writer = tf.python_io.TFRecordWriter(tfrecord_path)\n",
    "    \n",
    "    for i in range(len(x)):\n",
    "        file_dir_byte = bytes(x[i], 'utf-8')\n",
    "        example = tf.train.Example(\n",
    "            features=tf.train.Features(\n",
    "                feature={\n",
    "                    'x': _bytes_feature(file_dir_byte),\n",
    "                    'y': _int64_feature(int(y[i]))\n",
    "                }))\n",
    "        writer.write(example.SerializeToString())\n",
    "        \n",
    "    writer.close()\n",
    "\n",
    "first = time()\n",
    "write_tfrecord(\"train\",train_x,train_y)\n",
    "print(\"Time to write train record(s) : \" ,time()-first)\n",
    "write_tfrecord(\"test\",test_x, test_y)"
   ]
  },
  {
   "cell_type": "code",
   "execution_count": null,
   "metadata": {},
   "outputs": [],
   "source": []
  }
 ],
 "metadata": {
  "kernelspec": {
   "display_name": "Python 3",
   "language": "python",
   "name": "python3"
  },
  "language_info": {
   "codemirror_mode": {
    "name": "ipython",
    "version": 3
   },
   "file_extension": ".py",
   "mimetype": "text/x-python",
   "name": "python",
   "nbconvert_exporter": "python",
   "pygments_lexer": "ipython3",
   "version": "3.5.2"
  }
 },
 "nbformat": 4,
 "nbformat_minor": 2
}
